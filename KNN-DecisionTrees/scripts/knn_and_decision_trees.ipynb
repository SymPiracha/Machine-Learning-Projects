{
 "cells": [
  {
   "cell_type": "markdown",
   "metadata": {},
   "source": [
    "# KNN and Decision Trees"
   ]
  },
  {
   "cell_type": "markdown",
   "metadata": {},
   "source": [
    "#### The goal of this project is to analyse K-NN and Decision Tress on two different datasets and to visualise the difference in performance and accuracy"
   ]
  },
  {
   "cell_type": "markdown",
   "metadata": {},
   "source": [
    "### Importing Libraries"
   ]
  },
  {
   "cell_type": "code",
   "execution_count": 1,
   "metadata": {},
   "outputs": [],
   "source": [
    "import pandas as pd\n",
    "import matplotlib.pyplot as plot\n",
    "import numpy as np\n",
    "from sklearn import neighbors\n",
    "from sklearn.tree import DecisionTreeClassifier\n",
    "from sklearn import metrics\n",
    "import scipy\n",
    "%matplotlib inline\n",
    "import matplotlib.pyplot as plt\n",
    "import random\n",
    "from sklearn.metrics import f1_score\n",
    "import collections\n",
    "import operator"
   ]
  },
  {
   "cell_type": "markdown",
   "metadata": {},
   "source": [
    "# Adult Dataset"
   ]
  },
  {
   "cell_type": "code",
   "execution_count": 2,
   "metadata": {},
   "outputs": [],
   "source": [
    "adult_train_data = pd.read_csv(\"../data/adult/preproccessed/adult_training_set.csv\")\n",
    "adult_test_data = pd.read_csv(\"../data/adult/preproccessed/adult_testing_set.csv\")"
   ]
  },
  {
   "cell_type": "markdown",
   "metadata": {},
   "source": [
    "## Machine Learning Functions"
   ]
  },
  {
   "cell_type": "markdown",
   "metadata": {},
   "source": [
    "### KNN"
   ]
  },
  {
   "cell_type": "code",
   "execution_count": 3,
   "metadata": {},
   "outputs": [],
   "source": [
    "def knn(k, train_set, validation_set, output_column):\n",
    "    \n",
    "    # divide train data up into input and output based on the output column we get from the input\n",
    "    y_train = train_set[output_column]\n",
    "    x_train = train_set.loc[:, train_set.columns != output_column]\n",
    "\n",
    "    # set numbers as input\n",
    "    n_neighbors = k\n",
    "    \n",
    "    # create KNN instance\n",
    "    knn_model = neighbors.KNeighborsClassifier(n_neighbors=n_neighbors)\n",
    "    \n",
    "    # fit the model\n",
    "    knn_model.fit(x_train, y_train)\n",
    "    \n",
    "    # Make prediction\n",
    "    y_pred = knn_model.predict(x_train)\n",
    "        \n",
    "    \n",
    "    # divide validation data up into input and output based on the output column we get from the input\n",
    "    y_vald = validation_set[output_column]\n",
    "    x_vald = validation_set.loc[:, validation_set.columns != output_column]\n",
    "    \n",
    "    # use the model created above to predict labelfor validation set\n",
    "    y_pred_vald = knn_model.predict(x_vald)\n",
    "    \n",
    "    # accuracy_score is a meaure of accuracy\n",
    "    accuracy_score = metrics.accuracy_score(y_vald, y_pred_vald)\n",
    "    \n",
    "    return y_pred_vald, accuracy_score\n",
    "    "
   ]
  },
  {
   "cell_type": "markdown",
   "metadata": {},
   "source": [
    "### Decision Tree"
   ]
  },
  {
   "cell_type": "code",
   "execution_count": 4,
   "metadata": {},
   "outputs": [],
   "source": [
    "def decision_tree(max_depth, train_set, validation_set, output_column):\n",
    "    \n",
    "    # divide train data up into input and output based on the output column we get from the input\n",
    "    y_train = train_set[output_column]\n",
    "    x_train = train_set.loc[:, train_set.columns != output_column]\n",
    "    \n",
    "    # create Decision Tree instance, fit model and make prediction using input data\n",
    "    dec_model = DecisionTreeClassifier(max_depth = max_depth)\n",
    "    dec_model.fit(x_train, y_train)\n",
    "    y_pred = dec_model.predict(x_train)\n",
    "    \n",
    "    # divide validation data up into input and output based on the output column we get from the input\n",
    "    y_vald = validation_set[output_column]\n",
    "    x_vald = validation_set.loc[:, validation_set.columns != output_column]\n",
    "    \n",
    "    # use decision tree to make predicition on validation set\n",
    "    y_pred_vald = dec_model.predict(x_vald)\n",
    "    # accuracy_score is a meaure of accuracy\n",
    "    accuracy_score = metrics.accuracy_score(y_vald, y_pred_vald)\n",
    "    \n",
    "    return y_pred_vald, accuracy_score\n",
    "    "
   ]
  },
  {
   "cell_type": "markdown",
   "metadata": {},
   "source": [
    "## K-Cross Validation"
   ]
  },
  {
   "cell_type": "markdown",
   "metadata": {},
   "source": [
    "#### We are implementing a 5-Fold Validation"
   ]
  },
  {
   "cell_type": "markdown",
   "metadata": {},
   "source": [
    "### Dividing dataframes"
   ]
  },
  {
   "cell_type": "code",
   "execution_count": 5,
   "metadata": {},
   "outputs": [],
   "source": [
    "# divide the dataframe - this is used for cross validation\n",
    "def divide_dataframe(k, df):\n",
    "    # getting total rows in the training set\n",
    "    length = len(df)\n",
    "    # determine how big each fold should be\n",
    "    segment_size = int(length/k)\n",
    "    # create an array of dataframes where each dataframe is a fold\n",
    "    array_df = []\n",
    "    new_test = []\n",
    "    x = 0\n",
    "    # loop through origial datafram, divide into segment size and append as a new dataframe\n",
    "    while(x < length):\n",
    "        array_df.append(df.iloc[x: x+segment_size])\n",
    "        x+= segment_size\n",
    "        \n",
    "    return array_df"
   ]
  },
  {
   "cell_type": "markdown",
   "metadata": {},
   "source": [
    "### Cross Validation"
   ]
  },
  {
   "cell_type": "code",
   "execution_count": 6,
   "metadata": {},
   "outputs": [],
   "source": [
    "def seperate_into_validation_and_train_fold(df_array,i):\n",
    "        # pick the current one to be the validation set and \n",
    "        validation_set = df_array[i]\n",
    "        train_set = pd.DataFrame()\n",
    "        # remove the current one aka the validation set from the array so we are left with just the training data\n",
    "        for df in range(len(df_array)):\n",
    "            if df == i:\n",
    "                continue\n",
    "            else:\n",
    "                train_set = train_set.append(df_array[df])\n",
    "\n",
    "        return train_set, validation_set    "
   ]
  },
  {
   "cell_type": "code",
   "execution_count": 7,
   "metadata": {},
   "outputs": [],
   "source": [
    "def cross_validation(k_fold,hyperparameter,train_data, y_column,for_knn=False, for_decision_tree=False):    \n",
    "    # divide dataframe into a an array of k segments\n",
    "    df_array = divide_dataframe(k_fold, train_data)\n",
    "    validation_scores = []\n",
    "    # loop through all the dataframe segments (k folds)\n",
    "    for i in range(len(df_array)):\n",
    "        # current ith element is the validation fold and the rest are trainig folds\n",
    "        train_set , validation_set = seperate_into_validation_and_train_fold(df_array,i)\n",
    "        \n",
    "        # if the cross validation is for a knn \n",
    "        if (for_knn):\n",
    "            y_pred, accuracy_score = knn(hyperparameter,train_set,validation_set,y_column)\n",
    "            validation_scores.append(accuracy_score)\n",
    "        elif(for_decision_tree):\n",
    "            y_pred, accuracy_score = decision_tree(hyperparameter,train_set,validation_set,y_column)\n",
    "            validation_scores.append(accuracy_score)\n",
    "            \n",
    "    average_validation_score = round(sum(validation_scores)/len(validation_scores),4)\n",
    "        \n",
    "    return average_validation_score\n"
   ]
  },
  {
   "cell_type": "markdown",
   "metadata": {},
   "source": [
    "## Testing Different Neighbors and Depths for KNN and Decision Trees respectively"
   ]
  },
  {
   "cell_type": "markdown",
   "metadata": {},
   "source": [
    "### KNN with total neighbors"
   ]
  },
  {
   "cell_type": "code",
   "execution_count": 36,
   "metadata": {},
   "outputs": [],
   "source": [
    "def knn_evaluation(k, total_neighbours, training_set, y_column):\n",
    "    knn_neighbors_evaluation = {}\n",
    "    for i in range(1, total_neighbours+1):\n",
    "        print(\"Neighbor: \", i)\n",
    "        knn_validation_score = cross_validation(k, i,training_set, y_column,True,False)\n",
    "        knn_neighbors_evaluation[i] = knn_validation_score\n",
    "\n",
    "    return knn_neighbors_evaluation"
   ]
  },
  {
   "cell_type": "markdown",
   "metadata": {},
   "source": [
    "### Decision Tree with total_depth"
   ]
  },
  {
   "cell_type": "code",
   "execution_count": 10,
   "metadata": {},
   "outputs": [],
   "source": [
    "def decision_trees(k, total_depth, training_set, y_column):\n",
    "    dec_tree_eval = {}\n",
    "    for i in range(1,total_depth+1):\n",
    "        dec_score = cross_validation(k, i,training_set, y_column,False,True)\n",
    "        dec_tree_eval[i] = dec_score\n",
    "        \n",
    "    return dec_tree_eval"
   ]
  },
  {
   "cell_type": "markdown",
   "metadata": {},
   "source": [
    "## Evaluating on Adult Training Data Set"
   ]
  },
  {
   "cell_type": "markdown",
   "metadata": {},
   "source": [
    "#### Testing Adult Data Set for 26 neighbors"
   ]
  },
  {
   "cell_type": "code",
   "execution_count": 9,
   "metadata": {},
   "outputs": [],
   "source": [
    "knn_dict = knn_evaluation(5, 26, adult_train_data, \"annual-income\")"
   ]
  },
  {
   "cell_type": "markdown",
   "metadata": {},
   "source": [
    "#### Testing Decision Trees with 26 max depths"
   ]
  },
  {
   "cell_type": "code",
   "execution_count": 11,
   "metadata": {},
   "outputs": [],
   "source": [
    "dec_dict = decision_trees(5, 26, adult_train_data, \"annual-income\")"
   ]
  },
  {
   "cell_type": "markdown",
   "metadata": {},
   "source": [
    "## Comparing Different Datasizes"
   ]
  },
  {
   "cell_type": "markdown",
   "metadata": {},
   "source": [
    "#### Dividing the datasets into 5 parts beginning with 0.2 * total size and then incrementing by 0.2 everytime"
   ]
  },
  {
   "cell_type": "code",
   "execution_count": 12,
   "metadata": {},
   "outputs": [],
   "source": [
    "def dividing_data_set(k, training_set):\n",
    "    size_of_dataset = round(k,2)\n",
    "    new_size = int(len(training_set) * size_of_dataset)\n",
    "    \n",
    "    new_dataset = training_set[:new_size+1]\n",
    "    \n",
    "    return new_dataset\n",
    "    "
   ]
  },
  {
   "cell_type": "markdown",
   "metadata": {},
   "source": [
    "### Testing KNN with the change of dataset size and evaluating its accuracy"
   ]
  },
  {
   "cell_type": "code",
   "execution_count": 55,
   "metadata": {},
   "outputs": [],
   "source": [
    "def knn_on_new_data(best_neighbor, training_set, y_column):\n",
    "    size_of_dataset = 0.2\n",
    "    final_evaluation = {0.2:0, 0.4:0, 0.6:0, 0.8:0, 1:0}\n",
    "    while(size_of_dataset <= 1):\n",
    "        new_dataset = dividing_data_set(size_of_dataset,training_set)\n",
    "        size_of_dataset = round(size_of_dataset,2)\n",
    "        knn_eval = cross_validation(5, best_neighbor ,new_dataset, y_column,True,False)\n",
    "        print(\"Starting Cross Validation for : \",size_of_dataset, \" with K= \", best_neighbor, \"is: \", knn_eval)\n",
    "        final_evaluation[size_of_dataset] = knn_eval\n",
    "        size_of_dataset+= 0.2\n",
    "    \n",
    "    \n",
    "    return final_evaluation"
   ]
  },
  {
   "cell_type": "code",
   "execution_count": 56,
   "metadata": {},
   "outputs": [
    {
     "name": "stdout",
     "output_type": "stream",
     "text": [
      "Starting Cross Validation for :  0.2  with K=  23 is:  0.8151\n",
      "Starting Cross Validation for :  0.4  with K=  23 is:  0.7881\n",
      "Starting Cross Validation for :  0.6  with K=  23 is:  0.7697\n",
      "Starting Cross Validation for :  0.8  with K=  23 is:  0.7916\n",
      "Starting Cross Validation for :  1.0  with K=  23 is:  0.8266\n"
     ]
    }
   ],
   "source": [
    "total_eval_knn = knn_on_new_data(23, adult_train_data, 'annual-income')"
   ]
  },
  {
   "cell_type": "markdown",
   "metadata": {},
   "source": [
    "### Testing Decision Tree with the change of dataset size and evaluating its accuracy"
   ]
  },
  {
   "cell_type": "code",
   "execution_count": 15,
   "metadata": {},
   "outputs": [],
   "source": [
    "def dec_on_new_data(best_neighbor, training_set, y_column):\n",
    "    size_of_dataset =0.2\n",
    "    final_evaluation = {0.2:0, 0.4:0, 0.6:0, 0.8:0, 1:0}\n",
    "    while(size_of_dataset <= 1):\n",
    "        new_dataset = dividing_data_set(size_of_dataset,training_set)\n",
    "        size_of_dataset = round(size_of_dataset,2)\n",
    "        dec_eval = cross_validation(5, best_neighbor ,new_dataset, y_column,False,True)\n",
    "        print(\"Starting Cross Validation for : \",size_of_dataset, \" with depth =  \", best_neighbor, \"is: \", dec_eval)\n",
    "        final_evaluation[size_of_dataset] = dec_eval\n",
    "        size_of_dataset+= 0.2\n",
    "    \n",
    "    \n",
    "    return final_evaluation"
   ]
  },
  {
   "cell_type": "code",
   "execution_count": 16,
   "metadata": {},
   "outputs": [
    {
     "name": "stdout",
     "output_type": "stream",
     "text": [
      "Starting Cross Validation for :  0.2  with depth =   10 is:  0.8626\n",
      "Starting Cross Validation for :  0.4  with depth =   10 is:  0.8427\n",
      "Starting Cross Validation for :  0.6  with depth =   10 is:  0.8167\n",
      "Starting Cross Validation for :  0.8  with depth =   10 is:  0.8504\n",
      "Starting Cross Validation for :  1.0  with depth =   10 is:  0.8773\n"
     ]
    }
   ],
   "source": [
    "total_eval_dec = dec_on_new_data(10, adult_train_data, 'annual-income')"
   ]
  },
  {
   "cell_type": "markdown",
   "metadata": {},
   "source": [
    "## Run Final Version of KNN with the best chosen neighbor on the entire dataset"
   ]
  },
  {
   "cell_type": "code",
   "execution_count": 17,
   "metadata": {},
   "outputs": [],
   "source": [
    "best_k_neighbor = 23\n",
    "knn_prediction, knn_accuracy_score = knn(best_k_neighbor, adult_train_data, adult_test_data, 'annual-income')"
   ]
  },
  {
   "cell_type": "markdown",
   "metadata": {},
   "source": [
    "## Run Final Version of Decision Tree with the best chosen depth on the entire dataset"
   ]
  },
  {
   "cell_type": "code",
   "execution_count": 18,
   "metadata": {},
   "outputs": [],
   "source": [
    "best_depth= 10\n",
    "dt_prediction, dt_accuracy_score = decision_tree(best_depth, adult_train_data, adult_test_data, 'annual-income')"
   ]
  },
  {
   "cell_type": "markdown",
   "metadata": {},
   "source": [
    "## How did our model do ?"
   ]
  },
  {
   "cell_type": "markdown",
   "metadata": {},
   "source": [
    "### Let's calculate the F1-Scores"
   ]
  },
  {
   "cell_type": "markdown",
   "metadata": {},
   "source": [
    "### F1 KNN vs Decision Trees"
   ]
  },
  {
   "cell_type": "code",
   "execution_count": 19,
   "metadata": {},
   "outputs": [
    {
     "name": "stdout",
     "output_type": "stream",
     "text": [
      "KNN F1 Score:  [0.87918566 0.34260051]\n",
      "Decision Tree F1 Score:  [0.90647299 0.66514599]\n"
     ]
    }
   ],
   "source": [
    "print(\"KNN F1 Score: \", f1_score(adult_test_data['annual-income'],knn_prediction , average=None,labels = ['<=50K', '>50K']))\n",
    "print(\"Decision Tree F1 Score: \", f1_score(adult_test_data['annual-income'],dt_prediction , average=None,labels = ['<=50K', '>50K']))"
   ]
  },
  {
   "cell_type": "code",
   "execution_count": 20,
   "metadata": {},
   "outputs": [],
   "source": [
    "knn_final_f1_score = list(f1_score(adult_test_data['annual-income'],knn_prediction , average=None,labels = ['<=50K', '>50K']))"
   ]
  },
  {
   "cell_type": "code",
   "execution_count": 21,
   "metadata": {},
   "outputs": [],
   "source": [
    "dec_final_f1_score = list(f1_score(adult_test_data['annual-income'],dt_prediction , average=None,labels = ['<=50K', '>50K']))"
   ]
  },
  {
   "cell_type": "markdown",
   "metadata": {},
   "source": [
    "# Clothing Fit Dataset"
   ]
  },
  {
   "cell_type": "code",
   "execution_count": 22,
   "metadata": {},
   "outputs": [],
   "source": [
    "clothing_data = pd.read_csv(\"../data/clothing_fit/preproccessed/clothing_data_set.csv\")"
   ]
  },
  {
   "cell_type": "markdown",
   "metadata": {},
   "source": [
    "### Splitting the Dataset into test and train"
   ]
  },
  {
   "cell_type": "code",
   "execution_count": 92,
   "metadata": {},
   "outputs": [],
   "source": [
    "# split clothing data into training and test data based on a 70:30 split after shuffling it\n",
    "clothing_data = clothing_data[:(len(adult_test_data) + len(adult_train_data))]\n",
    "clothing_data = clothing_data.sample(frac=1).reset_index(drop=True)\n",
    "clothing_train = clothing_data[:int(.7*len(clothing_data))]\n",
    "clothing_test = clothing_data[int(.7*len(clothing_data)):]"
   ]
  },
  {
   "cell_type": "markdown",
   "metadata": {},
   "source": [
    "## Testing Different Neighbors and Depths for KNN and Decision Trees respectively"
   ]
  },
  {
   "cell_type": "markdown",
   "metadata": {},
   "source": [
    "### KNN"
   ]
  },
  {
   "cell_type": "code",
   "execution_count": 60,
   "metadata": {
    "scrolled": true
   },
   "outputs": [
    {
     "name": "stdout",
     "output_type": "stream",
     "text": [
      "Neighbor:  1\n",
      "Neighbor:  2\n",
      "Neighbor:  3\n",
      "Neighbor:  4\n",
      "Neighbor:  5\n",
      "Neighbor:  6\n",
      "Neighbor:  7\n",
      "Neighbor:  8\n",
      "Neighbor:  9\n",
      "Neighbor:  10\n",
      "Neighbor:  11\n"
     ]
    }
   ],
   "source": [
    "knn_dict_clothing = knn_evaluation(5, 11, clothing_train, \"size\")"
   ]
  },
  {
   "cell_type": "markdown",
   "metadata": {},
   "source": [
    "### Decision Trees"
   ]
  },
  {
   "cell_type": "code",
   "execution_count": 45,
   "metadata": {},
   "outputs": [],
   "source": [
    "dec_dict_clothing = decision_trees(5, 26, clothing_train, \"size\")"
   ]
  },
  {
   "cell_type": "code",
   "execution_count": 68,
   "metadata": {},
   "outputs": [],
   "source": [
    "max_value = max(list(knn_dict_clothing.values()))\n",
    "neigh = list(knn_dict_clothing.keys())[list(knn_dict_clothing.values()).index(max_value)]"
   ]
  },
  {
   "cell_type": "markdown",
   "metadata": {},
   "source": [
    "## Comparing Different Datasizes"
   ]
  },
  {
   "cell_type": "markdown",
   "metadata": {},
   "source": [
    "#### Dividing the datasets into 5 parts beginning with 0.2 * total size and then incrementing by 0.2 everytime"
   ]
  },
  {
   "cell_type": "markdown",
   "metadata": {},
   "source": [
    "### Testing KNN with the change of dataset size and evaluating its accuracy"
   ]
  },
  {
   "cell_type": "code",
   "execution_count": 70,
   "metadata": {},
   "outputs": [
    {
     "name": "stdout",
     "output_type": "stream",
     "text": [
      "Starting Cross Validation for :  0.2  with K=  11 is:  0.4148\n",
      "Starting Cross Validation for :  0.4  with K=  11 is:  0.3412\n",
      "Starting Cross Validation for :  0.6  with K=  11 is:  0.4296\n",
      "Starting Cross Validation for :  0.8  with K=  11 is:  0.4124\n",
      "Starting Cross Validation for :  1.0  with K=  11 is:  0.4176\n"
     ]
    }
   ],
   "source": [
    "total_eval_knn_clothing = knn_on_new_data(neigh, clothing_train, 'size')"
   ]
  },
  {
   "cell_type": "markdown",
   "metadata": {},
   "source": [
    "### Testing Decision Trees with the change of dataset size and evaluating its accuracy"
   ]
  },
  {
   "cell_type": "code",
   "execution_count": 47,
   "metadata": {},
   "outputs": [
    {
     "name": "stdout",
     "output_type": "stream",
     "text": [
      "Starting Cross Validation for :  0.2  with depth =   9 is:  0.4147\n",
      "Starting Cross Validation for :  0.4  with depth =   9 is:  0.4054\n",
      "Starting Cross Validation for :  0.6  with depth =   9 is:  0.4377\n",
      "Starting Cross Validation for :  0.8  with depth =   9 is:  0.4278\n",
      "Starting Cross Validation for :  1.0  with depth =   9 is:  0.4333\n"
     ]
    }
   ],
   "source": [
    "total_eval_dec_clothing = dec_on_new_data(9, clothing_train, 'size')"
   ]
  },
  {
   "cell_type": "markdown",
   "metadata": {},
   "source": [
    "## Run Final Version of KNN with the best chosen neighbor on the entire dataset"
   ]
  },
  {
   "cell_type": "code",
   "execution_count": 78,
   "metadata": {},
   "outputs": [],
   "source": [
    "best_k_neighbor = neigh\n",
    "knn_prediction_clothing, knn_accuracy_score_clothing = knn(best_k_neighbor, clothing_train, clothing_test, 'size')"
   ]
  },
  {
   "cell_type": "markdown",
   "metadata": {},
   "source": [
    "## Run Final Version of Decision Trees with the best chosen neighbor on the entire dataset"
   ]
  },
  {
   "cell_type": "code",
   "execution_count": 81,
   "metadata": {},
   "outputs": [],
   "source": [
    "best_depth= 9\n",
    "dt_prediction_clothing, dt_accuracy_score_clothing = decision_tree(best_depth, clothing_train, clothing_test, 'size')"
   ]
  },
  {
   "cell_type": "markdown",
   "metadata": {},
   "source": [
    "## How did our model do ?"
   ]
  },
  {
   "cell_type": "markdown",
   "metadata": {},
   "source": [
    "### Let's calculate the F1-Scores"
   ]
  },
  {
   "cell_type": "markdown",
   "metadata": {},
   "source": [
    "### F1 KNN vs Decision Trees"
   ]
  },
  {
   "cell_type": "code",
   "execution_count": 82,
   "metadata": {},
   "outputs": [
    {
     "name": "stdout",
     "output_type": "stream",
     "text": [
      "KNN F1 Score:  [0.45720345 0.54538491 0.36734694 0.4757764  0.36759582 0.02469136\n",
      " 0.35787321 0.25507548 0.         0.05       0.         0.12345679\n",
      " 0.         0.37241379 0.         0.         0.02777778 0.\n",
      " 0.         0.         0.         0.         0.         0.\n",
      " 0.         0.         0.        ]\n",
      "Decision Tree F1 Score:  [0.46484437 0.56577416 0.32667877 0.51241109 0.3640185  0.01449275\n",
      " 0.39851715 0.24265506 0.         0.00970874 0.         0.05471125\n",
      " 0.         0.32280702 0.         0.         0.         0.\n",
      " 0.         0.         0.         0.         0.         0.\n",
      " 0.         0.         0.        ]\n"
     ]
    }
   ],
   "source": [
    "print(\"KNN F1 Score: \", f1_score(clothing_test['size'],knn_prediction_clothing , average=None,labels = [8,  4, 26, 12, 20,  6, 32, 15,  5, 10, 14,  1,  9, 38, 18,  2,  7, 0, 13, 17, 21,  3, 11, 33, 24, 30, 27]))\n",
    "print(\"Decision Tree F1 Score: \", f1_score(clothing_test['size'],dt_prediction_clothing , average=None,labels = [8,  4, 26, 12, 20,  6, 32, 15,  5, 10, 14,  1,  9, 38, 18,  2,  7, 0, 13, 17, 21,  3, 11, 33, 24, 30, 27]))"
   ]
  },
  {
   "cell_type": "code",
   "execution_count": 83,
   "metadata": {},
   "outputs": [],
   "source": [
    "knn_final_f1_clothing = f1_score(clothing_test['size'],knn_prediction_clothing , average=None,labels = [8,  4, 26, 12, 20,  6, 32, 15,  5, 10, 14,  1,  9, 38, 18,  2,  7, 0, 13, 17, 21,  3, 11, 33, 24, 30, 27])\n",
    "dt_final_f1_clothing = f1_score(clothing_test['size'],dt_prediction_clothing , average=None,labels = [8,  4, 26, 12, 20,  6, 32, 15,  5, 10, 14,  1,  9, 38, 18,  2,  7, 0, 13, 17, 21,  3, 11, 33, 24, 30, 27])"
   ]
  },
  {
   "cell_type": "markdown",
   "metadata": {},
   "source": [
    "## Graphs"
   ]
  },
  {
   "cell_type": "code",
   "execution_count": 49,
   "metadata": {},
   "outputs": [],
   "source": [
    "def sorting_dicts(dictt):\n",
    "    keylist = list(dictt.keys())\n",
    "    x_label = sorted(keylist)\n",
    "    y_label = []\n",
    "\n",
    "    for i in x_label:\n",
    "        y_label.append(dictt[i])\n",
    "    return x_label, y_label"
   ]
  },
  {
   "cell_type": "code",
   "execution_count": 58,
   "metadata": {},
   "outputs": [],
   "source": [
    "dec_x_label, dec_y_label = sorting_dicts(total_eval_dec)\n",
    "knn_x_label, knn_y_label = sorting_dicts(total_eval_knn)"
   ]
  },
  {
   "cell_type": "markdown",
   "metadata": {},
   "source": [
    "## Adult Graphs"
   ]
  },
  {
   "cell_type": "code",
   "execution_count": 59,
   "metadata": {},
   "outputs": [
    {
     "data": {
      "image/png": "[encoded data removed]",
      "text/plain": [
       "<Figure size 432x288 with 1 Axes>"
      ]
     },
     "metadata": {
      "needs_background": "light"
     },
     "output_type": "display_data"
    }
   ],
   "source": [
    "plt.plot(dec_x_label,dec_y_label, label='Decision Tree')\n",
    "plt.plot(knn_x_label,knn_y_label, label='KNN', color='Red')\n",
    "\n",
    "\n",
    "plt.xlabel('Varying datasize')\n",
    "plt.ylabel('accuracy')\n",
    "plt.title('Change in training/validation data size')\n",
    "plt.legend()\n",
    "plt.show()\n"
   ]
  },
  {
   "cell_type": "code",
   "execution_count": 100,
   "metadata": {},
   "outputs": [
    {
     "data": {
      "image/png": "[encoded data removed]",
      "text/plain": [
       "<Figure size 432x288 with 1 Axes>"
      ]
     },
     "metadata": {
      "needs_background": "light"
     },
     "output_type": "display_data"
    }
   ],
   "source": [
    "plt.plot(list(knn_dict.keys()),list(knn_dict.values()), label='KNN')\n",
    "plt.xlabel('Number of Neighbors')\n",
    "plt.ylabel('Accuracy')\n",
    "plt.title('Changing Number of Neighbors - KNN (Adult)')\n",
    "plt.show()"
   ]
  },
  {
   "cell_type": "code",
   "execution_count": 99,
   "metadata": {
    "scrolled": true
   },
   "outputs": [
    {
     "data": {
      "image/png": "[encoded data removed]",
      "text/plain": [
       "<Figure size 432x288 with 1 Axes>"
      ]
     },
     "metadata": {
      "needs_background": "light"
     },
     "output_type": "display_data"
    }
   ],
   "source": [
    "plt.plot(list(dec_dict.keys()),list(dec_dict.values()), label='Decision Tree', color='Red')\n",
    "plt.xlabel('Depth')\n",
    "plt.ylabel('Accuracy')\n",
    "plt.title('Changing Depth of Decision Trees (Adult)')\n",
    "\n",
    "plt.show()"
   ]
  },
  {
   "cell_type": "code",
   "execution_count": 98,
   "metadata": {},
   "outputs": [
    {
     "data": {
      "image/png": "[encoded data removed]",
      "text/plain": [
       "<Figure size 720x360 with 1 Axes>"
      ]
     },
     "metadata": {
      "needs_background": "light"
     },
     "output_type": "display_data"
    }
   ],
   "source": [
    "y1  = knn_final_f1_score\n",
    "y2 = dec_final_f1_score\n",
    "x_test = ['<=50K', '>50K']\n",
    "f, ax = plt.subplots(figsize=(10,5))\n",
    "X_axis = np.arange(len(x_test))\n",
    "plt.bar(X_axis-0.2,y1, 0.4, label='KNN')\n",
    "plt.bar(X_axis+0.2, y2, 0.4, label = 'Decision Tree')\n",
    "plt.xticks(X_axis, x_test)\n",
    "plt.legend()\n",
    "plt.xlabel(\"Annual Income\")\n",
    "plt.ylabel(\"F1 Score\")\n",
    "plt.title(\"F1 Score Comparison (Adult)\")\n",
    "plt.show()"
   ]
  },
  {
   "cell_type": "markdown",
   "metadata": {},
   "source": [
    "## Clothing Graphs"
   ]
  },
  {
   "cell_type": "code",
   "execution_count": 71,
   "metadata": {},
   "outputs": [],
   "source": [
    "dec_x_label_clothing, dec_y_label_clothing = sorting_dicts(total_eval_dec_clothing)\n",
    "knn_x_label_clothing, knn_y_label_clothing = sorting_dicts(total_eval_knn_clothing)"
   ]
  },
  {
   "cell_type": "code",
   "execution_count": 94,
   "metadata": {},
   "outputs": [
    {
     "data": {
      "image/png": "[encoded data removed]",
      "text/plain": [
       "<Figure size 432x288 with 1 Axes>"
      ]
     },
     "metadata": {
      "needs_background": "light"
     },
     "output_type": "display_data"
    }
   ],
   "source": [
    "plt.plot(dec_x_label_clothing,dec_y_label_clothing, label='Decision Tree')\n",
    "plt.plot(knn_x_label_clothing,knn_y_label_clothing, label='KNN', color='Red')\n",
    "\n",
    "\n",
    "plt.xlabel('Varying datasize')\n",
    "plt.ylabel('accuracy')\n",
    "plt.title('Change in training/validation data size - Clothing')\n",
    "plt.legend()\n",
    "plt.show()\n",
    "\n"
   ]
  },
  {
   "cell_type": "code",
   "execution_count": 95,
   "metadata": {},
   "outputs": [
    {
     "data": {
      "image/png": "[encoded data removed]",
      "text/plain": [
       "<Figure size 432x288 with 1 Axes>"
      ]
     },
     "metadata": {
      "needs_background": "light"
     },
     "output_type": "display_data"
    }
   ],
   "source": [
    "plt.plot(list(knn_dict_clothing.keys()),list(knn_dict_clothing.values()), label='KNN')\n",
    "plt.xlabel('Number of Neighbors')\n",
    "plt.ylabel('Accuracy')\n",
    "plt.title('Changing Number of Neighbors - KNN  (Clothing)')\n",
    "plt.show()"
   ]
  },
  {
   "cell_type": "code",
   "execution_count": 96,
   "metadata": {},
   "outputs": [
    {
     "data": {
      "image/png": "[encoded data removed]",
      "text/plain": [
       "<Figure size 432x288 with 1 Axes>"
      ]
     },
     "metadata": {
      "needs_background": "light"
     },
     "output_type": "display_data"
    }
   ],
   "source": [
    "plt.plot(list(dec_dict_clothing.keys()),list(dec_dict_clothing.values()), label='Decision Tree', color='Red')\n",
    "plt.xlabel('Depth')\n",
    "plt.ylabel('Accuracy')\n",
    "plt.title('Changing Depth of Decision Trees (Clothing)')\n",
    "\n",
    "plt.show()"
   ]
  },
  {
   "cell_type": "code",
   "execution_count": 97,
   "metadata": {},
   "outputs": [
    {
     "data": {
      "image/png": "[encoded data removed]",
      "text/plain": [
       "<Figure size 1296x360 with 1 Axes>"
      ]
     },
     "metadata": {
      "needs_background": "light"
     },
     "output_type": "display_data"
    }
   ],
   "source": [
    "y1  = knn_final_f1_clothing\n",
    "y2 = dt_final_f1_clothing\n",
    "x_test = [8,  4, 26, 12, 20,  6, 32, 15,  5, 10, 14,  1,  9, 38, 18,  2,  7, 0, 13, 17, 21,  3, 11, 33, 24, 30, 27]\n",
    "X_axis = np.arange(len(x_test))\n",
    "f, ax = plt.subplots(figsize=(18,5))\n",
    "plt.bar(X_axis-0.2,y1, 0.4, label='KNN')\n",
    "plt.bar(X_axis+0.2, y2, 0.4, label = 'Decision Tree')\n",
    "plt.xticks(X_axis, x_test)\n",
    "plt.legend()\n",
    "plt.xlabel(\"Size\")\n",
    "plt.ylabel(\"F1 Score\")\n",
    "plt.title(\"F1 Score Comparison (Clothing)\")\n",
    "plt.show()"
   ]
  }
 ],
 "metadata": {
  "kernelspec": {
   "display_name": "Python 3",
   "language": "python",
   "name": "python3"
  }
 },
 "nbformat": 4,
 "nbformat_minor": 2
}
