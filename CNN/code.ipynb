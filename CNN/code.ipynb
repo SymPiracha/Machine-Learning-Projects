{
  "nbformat": 4,
  "nbformat_minor": 0,
  "metadata": {
    "colab": {
      "name": "COMP-551-P3.ipynb",
      "provenance": [],
      "collapsed_sections": []
    },
    "kernelspec": {
      "name": "python3",
      "display_name": "Python 3"
    },
    "language_info": {
      "name": "python"
    },
    "accelerator": "GPU"
  },
  "cells": [
    {
      "cell_type": "markdown",
      "metadata": {
        "id": "hVo9DCbSbLps"
      },
      "source": [
        "## **Import statements + set up device**"
      ]
    },
    {
      "cell_type": "code",
      "metadata": {
        "id": "VVupFgNcbNiw",
        "colab": {
          "base_uri": "https://localhost:8080/"
        },
        "outputId": "7df286c8-d003-47c7-9a06-227731426229"
      },
      "source": [
        "# mount gdrive\n",
        "from google.colab import drive\n",
        "drive.mount('/content/drive')"
      ],
      "execution_count": 58,
      "outputs": [
        {
          "output_type": "stream",
          "name": "stdout",
          "text": [
            "Drive already mounted at /content/drive; to attempt to forcibly remount, call drive.mount(\"/content/drive\", force_remount=True).\n"
          ]
        }
      ]
    },
    {
      "cell_type": "code",
      "metadata": {
        "id": "RlEs_p-wbStY"
      },
      "source": [
        "import pickle\n",
        "import numpy as np\n",
        "import matplotlib\n",
        "import matplotlib.pyplot as plt\n",
        "import torch\n",
        "import torch.nn as nn\n",
        "import torch.nn.functional as F\n",
        "import torchvision\n",
        "import torchvision.transforms as transforms\n",
        "from random import randrange\n",
        "import pandas as pd"
      ],
      "execution_count": 59,
      "outputs": []
    },
    {
      "cell_type": "code",
      "metadata": {
        "id": "2zufheW8bYB6",
        "colab": {
          "base_uri": "https://localhost:8080/"
        },
        "outputId": "0674d27a-c62b-42c0-ef09-47900941934d"
      },
      "source": [
        "# use a gpu if it is available\n",
        "# Training on GPU\n",
        "device = torch.device(\"cuda:0\" if torch.cuda.is_available() else \"cpu\")\n",
        "# Assuming that we are on a CUDA machine, the following should print a CUDA device\n",
        "print(f\"Currently runninng on: {device}\")"
      ],
      "execution_count": 60,
      "outputs": [
        {
          "output_type": "stream",
          "name": "stdout",
          "text": [
            "Currently runninng on: cuda:0\n"
          ]
        }
      ]
    },
    {
      "cell_type": "markdown",
      "metadata": {
        "id": "vMiknC3fbqWG"
      },
      "source": [
        "## **Hyperparameters**"
      ]
    },
    {
      "cell_type": "code",
      "metadata": {
        "id": "QR4VRP6obxse"
      },
      "source": [
        "# Hyper-parameters \n",
        "num_epochs = 50\n",
        "batch_size = 40\n",
        "learning_rate = 0.001\n",
        "validation_data_size = 0.2"
      ],
      "execution_count": 61,
      "outputs": []
    },
    {
      "cell_type": "markdown",
      "metadata": {
        "id": "fr63_KZ-cDbV"
      },
      "source": [
        "## **Prepare data**"
      ]
    },
    {
      "cell_type": "code",
      "metadata": {
        "id": "6bb-n9vYcIKU",
        "colab": {
          "base_uri": "https://localhost:8080/"
        },
        "outputId": "11143e63-d9f3-4d49-a925-46464e6bd8a4"
      },
      "source": [
        "# load training data\n",
        "training_images = \"/content/drive/My Drive/Colab Notebooks/images_l.pkl\"\n",
        "training_labels = \"/content/drive/My Drive/Colab Notebooks/labels_l.pkl\"\n",
        "\n",
        "with open(training_images, 'rb') as f: \n",
        "    X_train = pickle.load(f)\n",
        "\n",
        "with open(training_labels, 'rb') as f: \n",
        "    y_train = pickle.load(f)\n",
        "\n",
        "# Determine size of split for training and validation // Example = 24000 and 7000\n",
        "training_data_size = 1.0-validation_data_size\n",
        "training_data_size = (int) ((1.0-validation_data_size)*X_train.shape[0])\n",
        "validation_data_size = (int) (X_train.shape[0] - training_data_size)\n",
        "print(f'Size of training data    : {training_data_size}')\n",
        "print(f'Size of validation data  : {validation_data_size}')\n",
        "\n",
        "# need to ensure that 1 channel is specified - need this later when applying conv layer\n",
        "X_train = X_train.reshape(30000,1,56,56)\n",
        "# covert data to float tensors \n",
        "X_train = torch.from_numpy(X_train).float()\n",
        "y_train = torch.from_numpy(y_train).float()\n",
        "\n",
        "print(f\"Size of features :    {X_train.shape}\")\n",
        "print(f\"Size of labels   :    {y_train.shape}\")\n",
        "\n",
        "# create a dataset out of all the data\n",
        "all_data = torch.utils.data.TensorDataset(X_train,y_train)\n",
        "\n",
        "# split randomly between training and validation data\n",
        "training_data , validation_data = torch.utils.data.random_split(all_data,[training_data_size,validation_data_size])\n",
        "\n",
        "# create train and validation loaders with specified batch size (this is a hyperparameter we can tweak)\n",
        "train_loader = torch.utils.data.DataLoader(training_data, batch_size=batch_size, shuffle=True) \n",
        "val_loader = torch.utils.data.DataLoader(validation_data, batch_size=batch_size, shuffle=True)"
      ],
      "execution_count": 62,
      "outputs": [
        {
          "output_type": "stream",
          "name": "stdout",
          "text": [
            "Size of training data    : 24000\n",
            "Size of validation data  : 6000\n",
            "Size of features :    torch.Size([30000, 1, 56, 56])\n",
            "Size of labels   :    torch.Size([30000, 36])\n"
          ]
        }
      ]
    },
    {
      "cell_type": "markdown",
      "metadata": {
        "id": "oViCwbo8eE7Y"
      },
      "source": [
        "## **CNN Architecture and Training**"
      ]
    },
    {
      "cell_type": "code",
      "metadata": {
        "id": "tlrKwOPHeXTE"
      },
      "source": [
        "# method to train model using a dataloader\n",
        "def train_model(dataloader):\n",
        "  print(\"Training model:\")\n",
        "  train_losses = []\n",
        "  n_total_steps = len(dataloader)\n",
        "  for epoch in range(num_epochs):\n",
        "    for i, data in enumerate(dataloader):\n",
        "      \n",
        "      images,labels = data\n",
        "      images = images.to(device)\n",
        "      labels = labels.to(device)\n",
        "                        \n",
        "      # Forward pass:\n",
        "      outputs = model(images)\n",
        "      loss = criterion(outputs, labels)\n",
        "      train_losses.append(loss)\n",
        "\n",
        "      # Backward pass - compute gradients:\n",
        "      optimizer.zero_grad() # empty gradients\n",
        "      loss.backward() \n",
        "      optimizer.step()\n",
        "      # print usefull information while training:\n",
        "      if (i+1) % 500 == 0:\n",
        "        print (f'Epoch [{epoch+1}/{num_epochs}], Step [{i+1}/{n_total_steps}], Loss: {loss.item():.4f}')"
      ],
      "execution_count": 63,
      "outputs": []
    },
    {
      "cell_type": "code",
      "metadata": {
        "id": "kjwyZInyeJv7"
      },
      "source": [
        "class ConvNet(nn.Module):\n",
        "  def __init__(self):\n",
        "    super(ConvNet, self).__init__()\n",
        "    self.pool = nn.MaxPool2d(2, 2)\n",
        "    self.dropout = nn.Dropout(p=0.2)\n",
        "    self.batchnorm16 = nn.BatchNorm2d(16)\n",
        "    self.batchnorm32 = nn.BatchNorm2d(32)\n",
        "    self.conv1 = nn.Conv2d(1, 16, 3)\n",
        "    self.conv2 = nn.Conv2d(16, 16, 3, padding='same')\n",
        "    self.conv3 = nn.Conv2d(16, 16, 3, padding='same')\n",
        "    self.conv4 = nn.Conv2d(16, 32, 3, padding='same')\n",
        "    self.conv5 = nn.Conv2d(32, 32, 3, padding='same')\n",
        "    self.conv6 = nn.Conv2d(32, 32, 3, padding='same')\n",
        "    self.conv7 = nn.Conv2d(32, 32, 3, padding='same')\n",
        "    self.conv8 = nn.Conv2d(32, 32, 3, padding='same')\n",
        "    self.fc1 = nn.Linear(32 * 3 * 3, 144)\n",
        "    self.fc2 = nn.Linear(144, 108)\n",
        "    self.fc3 = nn.Linear(108, 36)\n",
        "\n",
        "\n",
        "  def forward(self,x):\n",
        "    x = F.relu(self.conv1(x))\n",
        "    x = self.batchnorm16(x)\n",
        "    x = self.pool(F.relu(self.conv2(x)))\n",
        "    x = self.batchnorm16(x)\n",
        "    x = F.relu(self.conv3(x))\n",
        "    x = self.batchnorm16(x)\n",
        "    x = self.pool(F.relu(self.conv4(x)))\n",
        "    x = self.dropout(x)\n",
        "    x = self.batchnorm32(x)\n",
        "    x = F.relu(self.conv5(x))\n",
        "    x = self.batchnorm32(x)\n",
        "    x = self.pool(F.relu(self.conv6(x)))\n",
        "    x = self.batchnorm32(x)\n",
        "    x = F.relu(self.conv7(x))\n",
        "    x = self.pool(F.relu(self.conv8(x)))\n",
        "    x = self.batchnorm32(x)\n",
        "    x = torch.flatten(x, 1) # flatten all dimensions except batch\n",
        "    x = F.relu(self.fc1(x))\n",
        "    x = self.dropout(x)\n",
        "    x = F.relu(self.fc2(x))\n",
        "    x = self.fc3(x)\n",
        "    return x\n",
        "\n",
        "\n",
        "# initialize our model\n",
        "model = ConvNet().to(device)\n",
        "# define the cross entropy loss function - note that this automatically peforms softmax\n",
        "criterion = nn.CrossEntropyLoss()\n",
        "# define the optimizer\n",
        "optimizer = torch.optim.Adam(model.parameters(), lr=learning_rate)"
      ],
      "execution_count": 64,
      "outputs": []
    },
    {
      "cell_type": "code",
      "metadata": {
        "colab": {
          "base_uri": "https://localhost:8080/"
        },
        "id": "0HDwjtV3ep_J",
        "outputId": "4b89b2d9-cb34-4257-e078-61518e6d6a3f"
      },
      "source": [
        "# call model on training loader with labeled data:\n",
        "train_model(train_loader)"
      ],
      "execution_count": 65,
      "outputs": [
        {
          "output_type": "stream",
          "name": "stdout",
          "text": [
            "Training model:\n",
            "Epoch [1/50], Step [500/600], Loss: 6.0296\n",
            "Epoch [2/50], Step [500/600], Loss: 5.0209\n",
            "Epoch [3/50], Step [500/600], Loss: 3.7726\n",
            "Epoch [4/50], Step [500/600], Loss: 2.9802\n",
            "Epoch [5/50], Step [500/600], Loss: 3.6367\n",
            "Epoch [6/50], Step [500/600], Loss: 2.3227\n",
            "Epoch [7/50], Step [500/600], Loss: 2.1504\n",
            "Epoch [8/50], Step [500/600], Loss: 2.3918\n",
            "Epoch [9/50], Step [500/600], Loss: 1.9537\n",
            "Epoch [10/50], Step [500/600], Loss: 1.8686\n",
            "Epoch [11/50], Step [500/600], Loss: 2.0152\n",
            "Epoch [12/50], Step [500/600], Loss: 2.0557\n",
            "Epoch [13/50], Step [500/600], Loss: 1.9608\n",
            "Epoch [14/50], Step [500/600], Loss: 1.8598\n",
            "Epoch [15/50], Step [500/600], Loss: 2.0875\n",
            "Epoch [16/50], Step [500/600], Loss: 1.8591\n",
            "Epoch [17/50], Step [500/600], Loss: 1.9250\n",
            "Epoch [18/50], Step [500/600], Loss: 1.8197\n",
            "Epoch [19/50], Step [500/600], Loss: 1.6313\n",
            "Epoch [20/50], Step [500/600], Loss: 2.0577\n",
            "Epoch [21/50], Step [500/600], Loss: 2.0909\n",
            "Epoch [22/50], Step [500/600], Loss: 1.6576\n",
            "Epoch [23/50], Step [500/600], Loss: 1.7392\n",
            "Epoch [24/50], Step [500/600], Loss: 1.7709\n",
            "Epoch [25/50], Step [500/600], Loss: 1.6951\n",
            "Epoch [26/50], Step [500/600], Loss: 1.7487\n",
            "Epoch [27/50], Step [500/600], Loss: 1.5713\n",
            "Epoch [28/50], Step [500/600], Loss: 1.6934\n",
            "Epoch [29/50], Step [500/600], Loss: 2.0281\n",
            "Epoch [30/50], Step [500/600], Loss: 1.6639\n",
            "Epoch [31/50], Step [500/600], Loss: 1.8397\n",
            "Epoch [32/50], Step [500/600], Loss: 1.6358\n",
            "Epoch [33/50], Step [500/600], Loss: 2.0629\n",
            "Epoch [34/50], Step [500/600], Loss: 1.7090\n",
            "Epoch [35/50], Step [500/600], Loss: 1.8658\n",
            "Epoch [36/50], Step [500/600], Loss: 1.8055\n",
            "Epoch [37/50], Step [500/600], Loss: 1.9204\n",
            "Epoch [38/50], Step [500/600], Loss: 1.7766\n",
            "Epoch [39/50], Step [500/600], Loss: 1.5520\n",
            "Epoch [40/50], Step [500/600], Loss: 1.4378\n",
            "Epoch [41/50], Step [500/600], Loss: 1.8838\n",
            "Epoch [42/50], Step [500/600], Loss: 1.6108\n",
            "Epoch [43/50], Step [500/600], Loss: 1.7248\n",
            "Epoch [44/50], Step [500/600], Loss: 1.5510\n",
            "Epoch [45/50], Step [500/600], Loss: 1.7819\n",
            "Epoch [46/50], Step [500/600], Loss: 1.6039\n",
            "Epoch [47/50], Step [500/600], Loss: 1.6352\n",
            "Epoch [48/50], Step [500/600], Loss: 1.6341\n",
            "Epoch [49/50], Step [500/600], Loss: 1.6306\n",
            "Epoch [50/50], Step [500/600], Loss: 1.6997\n"
          ]
        }
      ]
    },
    {
      "cell_type": "markdown",
      "metadata": {
        "id": "AQefT-5yhepX"
      },
      "source": [
        "## **Data Augmentation** "
      ]
    },
    {
      "cell_type": "code",
      "metadata": {
        "id": "bN62TqqthiTv",
        "colab": {
          "base_uri": "https://localhost:8080/"
        },
        "outputId": "c3241af8-de3f-42c8-a91d-7e2754d79683"
      },
      "source": [
        "# create a transform to randomly rotate data to +- 10\n",
        "rotate_transform = transforms.Compose([transforms.RandomRotation(degrees=10)])\n",
        "X_train_rotated = rotate_transform(X_train)\n",
        "# create new dataloader from rotated images and call model on rotated data to retrain\n",
        "rotated_data = torch.utils.data.TensorDataset(X_train_rotated,y_train)\n",
        "rotated_loader = torch.utils.data.DataLoader(rotated_data, batch_size=batch_size, shuffle=True)\n",
        "train_model(rotated_loader)"
      ],
      "execution_count": 66,
      "outputs": [
        {
          "output_type": "stream",
          "name": "stdout",
          "text": [
            "Training model:\n",
            "Epoch [1/50], Step [500/750], Loss: 2.3013\n",
            "Epoch [2/50], Step [500/750], Loss: 2.1012\n",
            "Epoch [3/50], Step [500/750], Loss: 1.7691\n",
            "Epoch [4/50], Step [500/750], Loss: 1.7099\n",
            "Epoch [5/50], Step [500/750], Loss: 1.9104\n",
            "Epoch [6/50], Step [500/750], Loss: 1.7806\n",
            "Epoch [7/50], Step [500/750], Loss: 1.6986\n",
            "Epoch [8/50], Step [500/750], Loss: 1.8917\n",
            "Epoch [9/50], Step [500/750], Loss: 1.9458\n",
            "Epoch [10/50], Step [500/750], Loss: 1.8755\n",
            "Epoch [11/50], Step [500/750], Loss: 2.0806\n",
            "Epoch [12/50], Step [500/750], Loss: 1.6071\n",
            "Epoch [13/50], Step [500/750], Loss: 1.8689\n",
            "Epoch [14/50], Step [500/750], Loss: 1.5025\n",
            "Epoch [15/50], Step [500/750], Loss: 1.7666\n",
            "Epoch [16/50], Step [500/750], Loss: 1.6610\n",
            "Epoch [17/50], Step [500/750], Loss: 1.5706\n",
            "Epoch [18/50], Step [500/750], Loss: 1.5704\n",
            "Epoch [19/50], Step [500/750], Loss: 1.6526\n",
            "Epoch [20/50], Step [500/750], Loss: 1.7721\n",
            "Epoch [21/50], Step [500/750], Loss: 1.5551\n",
            "Epoch [22/50], Step [500/750], Loss: 1.9760\n",
            "Epoch [23/50], Step [500/750], Loss: 1.6098\n",
            "Epoch [24/50], Step [500/750], Loss: 1.5232\n",
            "Epoch [25/50], Step [500/750], Loss: 1.7197\n",
            "Epoch [26/50], Step [500/750], Loss: 1.6291\n",
            "Epoch [27/50], Step [500/750], Loss: 1.7542\n",
            "Epoch [28/50], Step [500/750], Loss: 1.7235\n",
            "Epoch [29/50], Step [500/750], Loss: 1.7400\n",
            "Epoch [30/50], Step [500/750], Loss: 1.7836\n",
            "Epoch [31/50], Step [500/750], Loss: 1.5113\n",
            "Epoch [32/50], Step [500/750], Loss: 1.5092\n",
            "Epoch [33/50], Step [500/750], Loss: 1.5925\n",
            "Epoch [34/50], Step [500/750], Loss: 1.6048\n",
            "Epoch [35/50], Step [500/750], Loss: 1.5286\n",
            "Epoch [36/50], Step [500/750], Loss: 1.7021\n",
            "Epoch [37/50], Step [500/750], Loss: 1.6452\n",
            "Epoch [38/50], Step [500/750], Loss: 1.4763\n",
            "Epoch [39/50], Step [500/750], Loss: 1.7404\n",
            "Epoch [40/50], Step [500/750], Loss: 1.5187\n",
            "Epoch [41/50], Step [500/750], Loss: 1.5609\n",
            "Epoch [42/50], Step [500/750], Loss: 1.7169\n",
            "Epoch [43/50], Step [500/750], Loss: 1.4637\n",
            "Epoch [44/50], Step [500/750], Loss: 1.5934\n",
            "Epoch [45/50], Step [500/750], Loss: 1.4708\n",
            "Epoch [46/50], Step [500/750], Loss: 1.5896\n",
            "Epoch [47/50], Step [500/750], Loss: 2.0203\n",
            "Epoch [48/50], Step [500/750], Loss: 1.5398\n",
            "Epoch [49/50], Step [500/750], Loss: 1.4894\n",
            "Epoch [50/50], Step [500/750], Loss: 1.6009\n"
          ]
        }
      ]
    },
    {
      "cell_type": "markdown",
      "metadata": {
        "id": "daUGjb7EgCH8"
      },
      "source": [
        "## **Model Validation**"
      ]
    },
    {
      "cell_type": "code",
      "metadata": {
        "id": "fe7XVtEJgLVz"
      },
      "source": [
        "def validate(data_loader):\n",
        "    correct = 0\n",
        "    correctNums = 0\n",
        "    correctLetters = 0\n",
        "    total = 0\n",
        "\n",
        "  # do not need to keep track of gradients for validation \n",
        "    with torch.no_grad():\n",
        "        for data in data_loader:\n",
        "            images, labels = data\n",
        "            images = images.to(device)\n",
        "            labels = labels.to(device)\n",
        "            images = images.reshape(batch_size, 1, 56, 56)\n",
        "          # calculate outputs by running images through the network\n",
        "            outputs = model(images.float())\n",
        "          # the class with the highest energy is what we choose as prediction\n",
        "          #_, predicted = torch.max(outputs.data, 1)\n",
        "            numbers = outputs.data[:, :10]\n",
        "            _, predictedNums = torch.max(numbers, 1)\n",
        "            _, actualNums = torch.max(labels[:, :10], 1)\n",
        "\n",
        "            letters = outputs.data[:, 10:]\n",
        "            \n",
        "            _, predictedLetters = torch.max(letters, 1)\n",
        "            _, actualLetters = torch.max(labels[:, 10:], 1)\n",
        "\n",
        "            correctNums += (predictedNums == actualNums).sum().item()\n",
        "\n",
        "            correctLetters += (predictedLetters == actualLetters).sum().item()\n",
        "\n",
        "            total += predictedNums.shape[0]\n",
        "            correct += ((predictedNums == actualNums) & (predictedLetters == actualLetters)).sum().item()\n",
        "\n",
        "        ovr_acc = correct / total\n",
        "        num_acc = correctNums / total\n",
        "        let_acc = correctLetters / total\n",
        "\n",
        "        print(f'=====> Total Accuracy: {ovr_acc:.4f}\\t'\n",
        "              f'Number Accuracy: {num_acc:.4f}\\t'\n",
        "              f'Letter Accuracy: {let_acc:.2f}')"
      ],
      "execution_count": 78,
      "outputs": []
    },
    {
      "cell_type": "code",
      "metadata": {
        "id": "758tqkERgm1e",
        "colab": {
          "base_uri": "https://localhost:8080/"
        },
        "outputId": "d4f271df-78a7-422a-bf39-d37f9fa0bd5a"
      },
      "source": [
        "print(\"Training Scores:\")\n",
        "validate(train_loader)\n",
        "print(\"Validation Scores:\")\n",
        "validate(val_loader)"
      ],
      "execution_count": 79,
      "outputs": [
        {
          "output_type": "stream",
          "name": "stdout",
          "text": [
            "Training Scores:\n",
            "=====> Total Accuracy: 0.8937\tNumber Accuracy: 0.9530\tLetter Accuracy: 0.91\n",
            "Validation Scores:\n",
            "=====> Total Accuracy: 0.8803\tNumber Accuracy: 0.9420\tLetter Accuracy: 0.90\n"
          ]
        }
      ]
    },
    {
      "cell_type": "code",
      "metadata": {
        "id": "Ow1uL0S1jMOz",
        "colab": {
          "base_uri": "https://localhost:8080/"
        },
        "outputId": "051b1a8e-5cb1-4a08-9715-115690c58b3e"
      },
      "source": [
        "print(\"Training Scores:\")\n",
        "validate(train_loader)\n",
        "print(\"Validation Scores:\")\n",
        "validate(val_loader)"
      ],
      "execution_count": 69,
      "outputs": [
        {
          "output_type": "stream",
          "name": "stdout",
          "text": [
            "Training Scores:\n",
            "=====> Total Accuracy: 0.9330\tNumber Accuracy: 0.9728\tLetter Accuracy: 0.94\n",
            "Validation Scores:\n",
            "=====> Total Accuracy: 0.9203\tNumber Accuracy: 0.9665\tLetter Accuracy: 0.94\n"
          ]
        }
      ]
    },
    {
      "cell_type": "markdown",
      "metadata": {
        "id": "58A7gQN0gt28"
      },
      "source": [
        "## **Call model on Test data for submission**"
      ]
    },
    {
      "cell_type": "code",
      "metadata": {
        "id": "JhexqrXFg08y"
      },
      "source": [
        "def test(data_loader):\n",
        "\n",
        "    predictions = []\n",
        "\n",
        "  # do not need to keep track of gradients for validation \n",
        "    with torch.no_grad():\n",
        "        for data in data_loader:\n",
        "\n",
        "            images = data\n",
        "           \n",
        "            images = images.to(device)\n",
        "\n",
        "            # forward pass\n",
        "            outputs = model(images)\n",
        "\n",
        "            numbers = outputs.data[:, :10]\n",
        "            _, predictedNums = torch.max(numbers, 1)\n",
        "\n",
        "            letters = outputs.data[:, 10:]\n",
        "            _, predictedLetters = torch.max(letters, 1)\n",
        "\n",
        "\n",
        "\n",
        "            for i in range(len(outputs)): #len(outputs)\n",
        "\n",
        "              answer = np.zeros(36,dtype=np.int8)\n",
        "\n",
        "              answer[predictedNums[i]] = 1\n",
        "              answer[predictedLetters[i]+10] = 1 \n",
        "\n",
        "              predictions.append(answer)\n",
        "              \n",
        "  \n",
        "    # convert predictions into a strings of 1,0s for submission\n",
        "    string_predictions = []\n",
        "    for current_array in predictions:\n",
        "      current_array = ''.join(map(str,current_array))\n",
        "      string_predictions.append(current_array)\n",
        "\n",
        "    return string_predictions"
      ],
      "execution_count": 77,
      "outputs": []
    },
    {
      "cell_type": "code",
      "metadata": {
        "id": "WuNkKEb1hLZy"
      },
      "source": [
        "# load data\n",
        "test_path = \"/content/drive/My Drive/Colab Notebooks/images_test.pkl\"\n",
        "with open(test_path, 'rb') as f: \n",
        "    test_data = pickle.load(f)\n",
        "# reshape data to tensors and correct channels\n",
        "test_data = test_data.reshape(15000,1,56,56)\n",
        "# create dataset and dataloaders\n",
        "test_data = torch.from_numpy(test_data).float().to(device)\n",
        "testloader = torch.utils.data.DataLoader(test_data, batch_size=batch_size)\n",
        "test_output = test(testloader)\n",
        "# create dataframe to output as csv\n",
        "test_df = pd.DataFrame(test_output,columns=['Category'])\n",
        "test_df.index.name = '# Id'\n",
        "test_df.to_csv('pls_work.csv',index=True)"
      ],
      "execution_count": 80,
      "outputs": []
    },
    {
      "cell_type": "markdown",
      "metadata": {
        "id": "BKWCuFbbcWZC"
      },
      "source": [
        "## **Helper Functions**"
      ]
    },
    {
      "cell_type": "markdown",
      "metadata": {
        "id": "aDXElTdKcaYq"
      },
      "source": [
        "### Visualize data points"
      ]
    },
    {
      "cell_type": "code",
      "metadata": {
        "id": "62HEZDzoccES",
        "colab": {
          "base_uri": "https://localhost:8080/",
          "height": 871
        },
        "outputId": "fffbcd09-d8e0-4259-93c3-b4ccc1389556"
      },
      "source": [
        "def peek(tensor, nm=(2,2), labels=None):\n",
        "\n",
        "  def interpret(label):\n",
        "    idxs = np.where(label == 1)[0]\n",
        "    number = idxs[0]\n",
        "    alphabet = chr(idxs[1] - 10 + 97)\n",
        "    return (number, alphabet)\n",
        "  \n",
        "  tensor = tensor.squeeze(1).cpu()\n",
        "  verbose = True if labels is not None else False\n",
        "  if verbose:\n",
        "    labels = labels.cpu()\n",
        "  n, m = nm\n",
        "  f, ax = plt.subplots(n, m, figsize=(16,16))\n",
        "  for i in range(0, n*m):\n",
        "    ax[i//m, i%m].imshow(tensor[i].numpy())\n",
        "    if verbose:\n",
        "      ax[i//m, i%m].set_title(f'{interpret(labels[i])}')\n",
        "  plt.show()\n",
        "\n",
        "peek(X_train, nm=(3,3), labels=y_train)"
      ],
      "execution_count": 72,
      "outputs": [
        {
          "output_type": "display_data",
          "data": {
            "image/png": "[encoded data removed]",
            "text/plain": [
              "<Figure size 1152x1152 with 9 Axes>"
            ]
          },
          "metadata": {
            "needs_background": "light"
          }
        }
      ]
    },
    {
      "cell_type": "markdown",
      "metadata": {
        "id": "OWPsiYsghWo7"
      },
      "source": [
        "### Convert data to binary using thresholding:"
      ]
    },
    {
      "cell_type": "code",
      "metadata": {
        "id": "jzEsIocshZi4"
      },
      "source": [
        "def image_to_binary(input_images):\n",
        "\n",
        "  binary_images = np.zeros(np.shape(input_images))\n",
        "  for i in range(input_images.shape[0]):\n",
        "    binary_images[i] = input_images[i][:, :] > 125 \n",
        "\n",
        "  return binary_images"
      ],
      "execution_count": 73,
      "outputs": []
    },
    {
      "cell_type": "markdown",
      "metadata": {
        "id": "7e5HZZLv7IV_"
      },
      "source": [
        "## **Playing around with unlabelled data**"
      ]
    },
    {
      "cell_type": "markdown",
      "metadata": {
        "id": "pkYII4807Rqz"
      },
      "source": [
        "### Get results for unlabelled data"
      ]
    },
    {
      "cell_type": "code",
      "metadata": {
        "id": "RN1hp4Wv7SOk"
      },
      "source": [
        "# model.eval()\n",
        "def unlabeled(data_loader):\n",
        "\n",
        "    unlabeled_images = []\n",
        "    unlabeled_labels = []\n",
        "\n",
        "  # do not need to keep track of gradients for validation \n",
        "    with torch.no_grad():\n",
        "        for data in data_loader:\n",
        "\n",
        "            images = data\n",
        "           \n",
        "            images = images.to(device)\n",
        "\n",
        "            # forward pass\n",
        "            outputs = model(images)\n",
        "\n",
        "            numbers = outputs.data[:, :10]\n",
        "            _, predictedNums = torch.max(numbers, 1)\n",
        "\n",
        "            letters = outputs.data[:, 10:]\n",
        "            _, predictedLetters = torch.max(letters, 1)\n",
        "\n",
        "\n",
        "\n",
        "            for i in range(len(outputs)):\n",
        "              #print(f\"Iteration # {i}\")\n",
        "              #check if two letters or numbers are +ve, if they are we ignore current unlabelled example\n",
        "              number_of_positives_numbers = 0\n",
        "              numbers_of_positive_letters = 0\n",
        "              for number_pred in numbers[i]:\n",
        "                number_pred = number_pred.item()\n",
        "                if (number_pred>0):\n",
        "                  #print(f\"Number_pred:{number_pred}\")\n",
        "                  number_of_positives_numbers = number_of_positives_numbers + 1\n",
        "\n",
        "              for letter_pred in letters[i]:\n",
        "                letter_pred = letter_pred.item()\n",
        "                if (letter_pred>0):\n",
        "                  #print(f\"Letter_pred:{letter_pred}\")\n",
        "                  numbers_of_positive_letters = numbers_of_positive_letters + 1\n",
        "\n",
        "              \n",
        "              # print(\"Number of positives:\", number_of_positives)\n",
        "              \n",
        "\n",
        "              if (number_of_positives_numbers > 2 or numbers_of_positive_letters > 2):\n",
        "                continue\n",
        "              else:\n",
        "                # print(\"We should include this:\")\n",
        "                # print(\"predicted nums:\",predictedNums[i],numbers[i])\n",
        "                # print(\"predicted letters:\",predictedLetters[i], letters[i])\n",
        "\n",
        "                label = np.zeros(36,dtype=np.float32)  \n",
        "                label[predictedNums[i]] = 1\n",
        "                label[predictedLetters[i]+10] = 1  \n",
        "                unlabeled_labels.append(label)\n",
        "                unlabeled_images.append(images[i])\n",
        "\n",
        "\n",
        "    return unlabeled_images, unlabeled_labels"
      ],
      "execution_count": 74,
      "outputs": []
    },
    {
      "cell_type": "code",
      "metadata": {
        "id": "7hV_AZhS7UYv",
        "colab": {
          "base_uri": "https://localhost:8080/"
        },
        "outputId": "1c46dfed-0882-4336-bfb7-d52074d0041e"
      },
      "source": [
        "unlabeled_path = \"/content/drive/My Drive/Colab Notebooks/images_ul.pkl\"\n",
        "with open(unlabeled_path, 'rb') as f: \n",
        "    unlabeled_data = pickle.load(f)\n",
        "\n",
        "unlabeled_data = unlabeled_data.reshape(30000,1,56,56)\n",
        "unlabeled_data = torch.from_numpy(unlabeled_data).float().to(device)\n",
        "unlabeled_data = torch.utils.data.DataLoader(unlabeled_data, batch_size=batch_size)\n",
        "unlabeled_images, unlabeled_labels = unlabeled(unlabeled_data)\n",
        "\n",
        "# convert list of images (unlabeled data) to single tensor\n",
        "unlabeled_images_tensor = torch.Tensor(len(unlabeled_images), 56, 56).to(device)\n",
        "torch.cat(unlabeled_images, out=unlabeled_images_tensor)\n",
        "unlabeled_images = unlabeled_images_tensor.view(len(unlabeled_images),1,56,56)\n",
        "# convert new labels to tensor\n",
        "unlabeled_labels = np.stack(unlabeled_labels, axis=0)\n",
        "unlabeled_labels = torch.from_numpy(unlabeled_labels)\n",
        "print(unlabeled_images.shape, unlabeled_labels.shape)\n",
        "\n",
        "# create dataset and dataloaders for newly labeled data\n",
        "newly_labeled = torch.utils.data.TensorDataset(unlabeled_images,unlabeled_labels)\n",
        "new_label_dataloader = torch.utils.data.DataLoader(newly_labeled, batch_size=batch_size, shuffle=True) # look into numworkers\n",
        "\n",
        "# train using newly labeled dataset\n",
        "train_model(new_label_dataloader)"
      ],
      "execution_count": 75,
      "outputs": [
        {
          "output_type": "stream",
          "name": "stdout",
          "text": [
            "torch.Size([24087, 1, 56, 56]) torch.Size([24087, 36])\n",
            "Training model:\n",
            "Epoch [1/50], Step [500/603], Loss: 2.0034\n",
            "Epoch [2/50], Step [500/603], Loss: 2.1399\n",
            "Epoch [3/50], Step [500/603], Loss: 1.9954\n",
            "Epoch [4/50], Step [500/603], Loss: 2.1064\n",
            "Epoch [5/50], Step [500/603], Loss: 1.6078\n",
            "Epoch [6/50], Step [500/603], Loss: 1.7992\n",
            "Epoch [7/50], Step [500/603], Loss: 1.5733\n",
            "Epoch [8/50], Step [500/603], Loss: 1.9401\n",
            "Epoch [9/50], Step [500/603], Loss: 1.5351\n",
            "Epoch [10/50], Step [500/603], Loss: 1.9198\n",
            "Epoch [11/50], Step [500/603], Loss: 1.5375\n",
            "Epoch [12/50], Step [500/603], Loss: 1.6508\n",
            "Epoch [13/50], Step [500/603], Loss: 1.9646\n",
            "Epoch [14/50], Step [500/603], Loss: 1.5398\n",
            "Epoch [15/50], Step [500/603], Loss: 1.6142\n",
            "Epoch [16/50], Step [500/603], Loss: 1.5466\n",
            "Epoch [17/50], Step [500/603], Loss: 1.5653\n",
            "Epoch [18/50], Step [500/603], Loss: 1.5802\n",
            "Epoch [19/50], Step [500/603], Loss: 1.5048\n",
            "Epoch [20/50], Step [500/603], Loss: 1.4972\n",
            "Epoch [21/50], Step [500/603], Loss: 1.5878\n",
            "Epoch [22/50], Step [500/603], Loss: 1.7157\n",
            "Epoch [23/50], Step [500/603], Loss: 1.4671\n",
            "Epoch [24/50], Step [500/603], Loss: 1.4424\n",
            "Epoch [25/50], Step [500/603], Loss: 1.4660\n",
            "Epoch [26/50], Step [500/603], Loss: 1.6912\n",
            "Epoch [27/50], Step [500/603], Loss: 1.5615\n",
            "Epoch [28/50], Step [500/603], Loss: 1.6556\n",
            "Epoch [29/50], Step [500/603], Loss: 1.7787\n",
            "Epoch [30/50], Step [500/603], Loss: 1.4788\n",
            "Epoch [31/50], Step [500/603], Loss: 1.6349\n",
            "Epoch [32/50], Step [500/603], Loss: 1.7224\n",
            "Epoch [33/50], Step [500/603], Loss: 1.5395\n",
            "Epoch [34/50], Step [500/603], Loss: 1.6294\n",
            "Epoch [35/50], Step [500/603], Loss: 1.6007\n",
            "Epoch [36/50], Step [500/603], Loss: 1.5639\n",
            "Epoch [37/50], Step [500/603], Loss: 1.6931\n",
            "Epoch [38/50], Step [500/603], Loss: 1.6745\n",
            "Epoch [39/50], Step [500/603], Loss: 1.5981\n",
            "Epoch [40/50], Step [500/603], Loss: 1.6372\n",
            "Epoch [41/50], Step [500/603], Loss: 1.5323\n",
            "Epoch [42/50], Step [500/603], Loss: 1.4221\n",
            "Epoch [43/50], Step [500/603], Loss: 1.5711\n",
            "Epoch [44/50], Step [500/603], Loss: 1.5034\n",
            "Epoch [45/50], Step [500/603], Loss: 1.5422\n",
            "Epoch [46/50], Step [500/603], Loss: 1.5100\n",
            "Epoch [47/50], Step [500/603], Loss: 1.5873\n",
            "Epoch [48/50], Step [500/603], Loss: 1.9631\n",
            "Epoch [49/50], Step [500/603], Loss: 1.4870\n",
            "Epoch [50/50], Step [500/603], Loss: 1.6166\n"
          ]
        }
      ]
    },
    {
      "cell_type": "code",
      "metadata": {
        "id": "ei--22Pd8-WA",
        "colab": {
          "base_uri": "https://localhost:8080/"
        },
        "outputId": "b7ef991b-329b-41c1-8d2e-7490ed4f32e4"
      },
      "source": [
        "print(\"After incorporating unlabelled data:\")\n",
        "print(\"Training Scores:\")\n",
        "validate(train_loader)\n",
        "print(\"Validation Scores:\")\n",
        "validate(val_loader)"
      ],
      "execution_count": 76,
      "outputs": [
        {
          "output_type": "stream",
          "name": "stdout",
          "text": [
            "After incorporating unlabelled data:\n",
            "Training Scores:\n",
            "=====> Total Accuracy: 0.8957\tNumber Accuracy: 0.9547\tLetter Accuracy: 0.91\n",
            "Validation Scores:\n",
            "=====> Total Accuracy: 0.8782\tNumber Accuracy: 0.9428\tLetter Accuracy: 0.90\n"
          ]
        }
      ]
    }
  ]
}